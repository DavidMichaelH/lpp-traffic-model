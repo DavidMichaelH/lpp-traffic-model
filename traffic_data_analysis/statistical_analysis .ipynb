{
 "cells": [
  {
   "cell_type": "markdown",
   "metadata": {},
   "source": [
    "Mention the appropriate information"
   ]
  },
  {
   "cell_type": "code",
   "execution_count": 1,
   "metadata": {},
   "outputs": [
    {
     "data": {
      "text/html": [
       "<div>\n",
       "<style scoped>\n",
       "    .dataframe tbody tr th:only-of-type {\n",
       "        vertical-align: middle;\n",
       "    }\n",
       "\n",
       "    .dataframe tbody tr th {\n",
       "        vertical-align: top;\n",
       "    }\n",
       "\n",
       "    .dataframe thead th {\n",
       "        text-align: right;\n",
       "    }\n",
       "</style>\n",
       "<table border=\"1\" class=\"dataframe\">\n",
       "  <thead>\n",
       "    <tr style=\"text-align: right;\">\n",
       "      <th></th>\n",
       "      <th>rand_point_id</th>\n",
       "      <th>id</th>\n",
       "      <th>start_x</th>\n",
       "      <th>start_y</th>\n",
       "      <th>end_x</th>\n",
       "      <th>end_y</th>\n",
       "    </tr>\n",
       "  </thead>\n",
       "  <tbody>\n",
       "    <tr>\n",
       "      <th>0</th>\n",
       "      <td>0</td>\n",
       "      <td>1</td>\n",
       "      <td>-4.056</td>\n",
       "      <td>56.520</td>\n",
       "      <td>-2.756</td>\n",
       "      <td>56.520</td>\n",
       "    </tr>\n",
       "    <tr>\n",
       "      <th>1</th>\n",
       "      <td>1</td>\n",
       "      <td>1</td>\n",
       "      <td>-1.128</td>\n",
       "      <td>52.478</td>\n",
       "      <td>0.172</td>\n",
       "      <td>52.478</td>\n",
       "    </tr>\n",
       "  </tbody>\n",
       "</table>\n",
       "</div>"
      ],
      "text/plain": [
       "   rand_point_id  id  start_x  start_y  end_x   end_y\n",
       "0              0   1   -4.056   56.520 -2.756  56.520\n",
       "1              1   1   -1.128   52.478  0.172  52.478"
      ]
     },
     "execution_count": 1,
     "metadata": {},
     "output_type": "execute_result"
    }
   ],
   "source": [
    "import pandas as pd\n",
    "import matplotlib.pyplot as plt\n",
    "import numpy as np\n",
    "import math\n",
    "from math import radians, cos, sin, asin, sqrt, asin, atan2, degrees \n",
    "\n",
    "#Dataset (Downloadable from \"https://storage.googleapis.com/dft-statistics/road-traffic/downloads/data-gov-uk/dft_traffic_counts_aadf.zip\")\n",
    "#Sample points are the randomly choosen line segments throghout UK, which consits of start coordinates (start_x, start_y) and end coordinates (end_x, end_y) of the line segments.\n",
    "\n",
    "path_to_dataset='D:/LPP_data/dft_traffic_counts_aadf/dft_traffic_counts_aadf.csv'\n",
    "path_to_sample_points='D:/LPP_data/line_segments_2.csv'\n",
    "path_to_save='D:/LPP_data/'\n",
    "strip_height=5\n",
    "\n",
    "d=pd.read_csv(F\"{path_to_dataset}\")\n",
    "#Filtering the data with latest year traffic\n",
    "d=d.loc[d.groupby('Count_point_id')['Year'].transform(max) == d['Year']]\n",
    "\n",
    "#Random sample\n",
    "s=pd.read_csv(F\"{path_to_sample_points}\")\n",
    "s.head(2)\n"
   ]
  },
  {
   "cell_type": "markdown",
   "metadata": {},
   "source": [
    "Necessary functions"
   ]
  },
  {
   "cell_type": "code",
   "execution_count": 2,
   "metadata": {},
   "outputs": [],
   "source": [
    "def distance(lat1, lat2, lon1, lon2):\n",
    "     \n",
    "    # The math module contains a function named\n",
    "    # radians which converts from degrees to radians.\n",
    "    lon1 = radians(lon1)\n",
    "    lon2 = radians(lon2)\n",
    "    lat1 = radians(lat1)\n",
    "    lat2 = radians(lat2)\n",
    "      \n",
    "    # Haversine formula\n",
    "    dlon = lon2 - lon1\n",
    "    dlat = lat2 - lat1\n",
    "    a = sin(dlat / 2)**2 + cos(lat1) * cos(lat2) * sin(dlon / 2)**2\n",
    " \n",
    "    c = 2 * asin(sqrt(a))\n",
    "    \n",
    "    # Radius of earth in kilometers. Use 3956 for miles\n",
    "    r = 6371\n",
    "      \n",
    "    # calculate the result\n",
    "    return(c * r)\n",
    "\n",
    "\n",
    "def get_point_at_distance(lat1, lon1, d, bearing, R=6371):\n",
    "    \"\"\"\n",
    "    lat: initial latitude, in degrees\n",
    "    lon: initial longitude, in degrees\n",
    "    d: target distance from initial\n",
    "    bearing: (true) heading in degrees\n",
    "    R: optional radius of sphere, defaults to mean radius of earth\n",
    "\n",
    "    Returns new lat/lon coordinate {d}km from initial, in degrees\n",
    "    \"\"\"\n",
    "    lat1 = radians(lat1)\n",
    "    lon1 = radians(lon1)\n",
    "    a = radians(bearing)\n",
    "    lat2 = asin(sin(lat1) * cos(d/R) + cos(lat1) * sin(d/R) * cos(a))\n",
    "    lon2 = lon1 + atan2(\n",
    "        sin(a) * sin(d/R) * cos(lat1),\n",
    "        cos(d/R) - sin(lat1) * sin(lat2)\n",
    "    )\n",
    "    return (degrees(lat2), degrees(lon2),)"
   ]
  },
  {
   "cell_type": "markdown",
   "metadata": {},
   "source": [
    "Dividing the sample into two parts;\n",
    "(Important: Run only one of the below two cells to get the portion of the data you want to do the statistical analysis.)\n",
    "However, one can run the statistical analysis on the whole sample points. Then just ignore the two cells below."
   ]
  },
  {
   "cell_type": "code",
   "execution_count": 3,
   "metadata": {},
   "outputs": [],
   "source": [
    "#East-South portion of the samples of UK with longitude <= 54 and latitude >= -3.066\n",
    "s=s[(s['start_x']>=-3.066) & (s['start_y']<=54) ]\n",
    "s=s.reset_index()"
   ]
  },
  {
   "cell_type": "code",
   "execution_count": null,
   "metadata": {},
   "outputs": [],
   "source": [
    "#West-North portion of the sample\n",
    "s=s[(s['start_x']<=-3.066) | (s['start_y']>=54) ]\n",
    "s=s.reset_index()"
   ]
  },
  {
   "cell_type": "markdown",
   "metadata": {},
   "source": [
    "Statistical Analysis\n",
    "(Approximately time taken is 90 sec to run one value of 'k')"
   ]
  },
  {
   "cell_type": "code",
   "execution_count": 5,
   "metadata": {},
   "outputs": [],
   "source": [
    "#Output dataframe\n",
    "o=pd.DataFrame(zip([],[],[]),columns=['Traffic','Distance','Probability'])\n",
    "\n",
    "#Given a dataframe containing 'Latitude', 'Longitude' s, n and k.\n",
    "#Mention the range of traffic by n and distance by k. \n",
    "#Calculating the relative frequency of the traffic count more than n within distance k.\n",
    "for n in range(1000,100000,1000):\n",
    "    for k in range(0,90,1):\n",
    "        count=0\n",
    "        for i in range(len(s)):\n",
    "            lt_n, ln_n= get_point_at_distance(s['start_y'][i], s['start_x'][i], strip_height/2, 0)\n",
    "            lt_s, ln_s= get_point_at_distance(s['start_y'][i], s['start_x'][i], strip_height/2, 180)\n",
    "            lt_e, ln_e= get_point_at_distance(s['start_y'][i], s['start_x'][i], k, 90)\n",
    "            if d[(d['Latitude']<=lt_n) & (d['Latitude']>=lt_s) & (d['Longitude']<=ln_e) & (d['Longitude']>=s['start_x'][i]) & (d['All_motor_vehicles']>=n)].empty:\n",
    "                count=count+1\n",
    "        o.loc[len(o)] = [n,k,(len(s)-count)/len(s)]\n",
    "            \n",
    "o.to_csv(F'{path_to_save}'+F'Statistics_width_{strip_height}.csv')"
   ]
  },
  {
   "cell_type": "markdown",
   "metadata": {},
   "source": [
    "Visualization of the statistics"
   ]
  },
  {
   "cell_type": "code",
   "execution_count": null,
   "metadata": {},
   "outputs": [],
   "source": [
    "o=pd.read_csv(F'{path_to_save}'+F'Statistics_width_{strip_height}.csv')\n",
    "\n",
    "x=np.array(list(o[(o['Probability']<=0.51) & (o['Probability']>=0.49)]['Distance']))\n",
    "y=np.array(list(o[(o['Probability']<=0.51) & (o['Probability']>=0.49)]['Traffic']))\n",
    "plt.scatter(x,y,s=5)\n",
    "plt.title(F'Width= {strip_height} km, with probability in [0.49,0.51]')\n",
    "plt.xlabel('Distance', fontsize=15)\n",
    "plt.ylabel('Traffic', fontsize=15)\n",
    "plt.tight_layout()\n",
    "\n",
    "plt.savefig(F'{path_to_save}'+F'Statistics_figure_width_{strip_height}.csv')"
   ]
  }
 ],
 "metadata": {
  "kernelspec": {
   "display_name": "Python 3",
   "language": "python",
   "name": "python3"
  },
  "language_info": {
   "codemirror_mode": {
    "name": "ipython",
    "version": 3
   },
   "file_extension": ".py",
   "mimetype": "text/x-python",
   "name": "python",
   "nbconvert_exporter": "python",
   "pygments_lexer": "ipython3",
   "version": "3.10.11"
  }
 },
 "nbformat": 4,
 "nbformat_minor": 2
}
